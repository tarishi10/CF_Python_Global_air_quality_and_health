{
 "cells": [
  {
   "cell_type": "markdown",
   "id": "7a6df668-727e-45e7-9840-40858cc84ddf",
   "metadata": {},
   "source": [
    "# Script contents:\n",
    "1. Importing libraries and datframe\n",
    "2. Data cleaning\n",
    "3. Data prep\n",
    "4. Regression analysis"
   ]
  },
  {
   "cell_type": "markdown",
   "id": "1063a15d-549d-4a0e-b74f-4d031296b9fb",
   "metadata": {},
   "source": [
    "### 1. Importing libraries and dataframe"
   ]
  },
  {
   "cell_type": "code",
   "execution_count": 1,
   "id": "f9d6faf7-4093-44b3-b513-cdbe6aeef230",
   "metadata": {},
   "outputs": [],
   "source": [
    "import pandas as pd\n",
    "import numpy as np\n",
    "import seaborn as sns\n",
    "import matplotlib\n",
    "import matplotlib.pyplot as plt\n",
    "import os\n",
    "import sklearn\n",
    "from sklearn.model_selection import train_test_split \n",
    "from sklearn.linear_model import LinearRegression\n",
    "from sklearn.metrics import mean_squared_error, r2_score"
   ]
  },
  {
   "cell_type": "code",
   "execution_count": 3,
   "id": "ba53fbff-cef2-4bbf-9593-b64b5b151a75",
   "metadata": {},
   "outputs": [],
   "source": [
    "#for the created graphs to be displayed in the notebook\n",
    "%matplotlib inline"
   ]
  },
  {
   "cell_type": "code",
   "execution_count": 4,
   "id": "d817e110-0e13-44ba-86a0-610f3f052760",
   "metadata": {},
   "outputs": [],
   "source": [
    "path=r'C:\\Users\\akul_\\OneDrive\\Documents\\Tarishi\\CF Data analysis bootcamp\\Achievement 6\\Global aqi and respiratory health outcomes'"
   ]
  },
  {
   "cell_type": "code",
   "execution_count": 5,
   "id": "fbb3f0bc-dca5-4cfc-9679-99947805b7dc",
   "metadata": {},
   "outputs": [],
   "source": [
    "df_aqi=df_aqi=pd.read_csv(os.path.join(path, 'Data', 'Prepared data', 'air_quality_cleaned.csv'),index_col=False)"
   ]
  },
  {
   "cell_type": "markdown",
   "id": "6db35b2d-ff0f-41ac-8296-f45eb5eda5d2",
   "metadata": {},
   "source": [
    "### 2. Data cleaning"
   ]
  },
  {
   "cell_type": "code",
   "execution_count": 6,
   "id": "6a3783df-9b80-4a8d-ae4e-452bdf9436fa",
   "metadata": {},
   "outputs": [
    {
     "data": {
      "text/html": [
       "<div>\n",
       "<style scoped>\n",
       "    .dataframe tbody tr th:only-of-type {\n",
       "        vertical-align: middle;\n",
       "    }\n",
       "\n",
       "    .dataframe tbody tr th {\n",
       "        vertical-align: top;\n",
       "    }\n",
       "\n",
       "    .dataframe thead th {\n",
       "        text-align: right;\n",
       "    }\n",
       "</style>\n",
       "<table border=\"1\" class=\"dataframe\">\n",
       "  <thead>\n",
       "    <tr style=\"text-align: right;\">\n",
       "      <th></th>\n",
       "      <th>Unnamed: 0</th>\n",
       "      <th>city</th>\n",
       "      <th>date</th>\n",
       "      <th>aqi</th>\n",
       "      <th>pm2_5</th>\n",
       "      <th>pm10</th>\n",
       "      <th>no2</th>\n",
       "      <th>o3</th>\n",
       "      <th>temperature</th>\n",
       "      <th>humidity</th>\n",
       "      <th>hospital_admissions</th>\n",
       "      <th>population_density</th>\n",
       "      <th>hospital_capacity</th>\n",
       "    </tr>\n",
       "  </thead>\n",
       "  <tbody>\n",
       "    <tr>\n",
       "      <th>0</th>\n",
       "      <td>0</td>\n",
       "      <td>Los Angeles</td>\n",
       "      <td>2020-01-01</td>\n",
       "      <td>65</td>\n",
       "      <td>34.0</td>\n",
       "      <td>52.7</td>\n",
       "      <td>2.2</td>\n",
       "      <td>38.5</td>\n",
       "      <td>33.5</td>\n",
       "      <td>33</td>\n",
       "      <td>5</td>\n",
       "      <td>Rural</td>\n",
       "      <td>1337</td>\n",
       "    </tr>\n",
       "    <tr>\n",
       "      <th>1</th>\n",
       "      <td>1</td>\n",
       "      <td>Beijing</td>\n",
       "      <td>2020-01-02</td>\n",
       "      <td>137</td>\n",
       "      <td>33.7</td>\n",
       "      <td>31.5</td>\n",
       "      <td>36.7</td>\n",
       "      <td>27.5</td>\n",
       "      <td>-1.6</td>\n",
       "      <td>32</td>\n",
       "      <td>4</td>\n",
       "      <td>Urban</td>\n",
       "      <td>1545</td>\n",
       "    </tr>\n",
       "    <tr>\n",
       "      <th>2</th>\n",
       "      <td>2</td>\n",
       "      <td>London</td>\n",
       "      <td>2020-01-03</td>\n",
       "      <td>266</td>\n",
       "      <td>43.0</td>\n",
       "      <td>59.6</td>\n",
       "      <td>30.4</td>\n",
       "      <td>57.3</td>\n",
       "      <td>36.4</td>\n",
       "      <td>25</td>\n",
       "      <td>10</td>\n",
       "      <td>Suburban</td>\n",
       "      <td>1539</td>\n",
       "    </tr>\n",
       "    <tr>\n",
       "      <th>3</th>\n",
       "      <td>3</td>\n",
       "      <td>Mexico City</td>\n",
       "      <td>2020-01-04</td>\n",
       "      <td>293</td>\n",
       "      <td>33.7</td>\n",
       "      <td>37.9</td>\n",
       "      <td>12.3</td>\n",
       "      <td>42.7</td>\n",
       "      <td>-1.0</td>\n",
       "      <td>67</td>\n",
       "      <td>10</td>\n",
       "      <td>Urban</td>\n",
       "      <td>552</td>\n",
       "    </tr>\n",
       "    <tr>\n",
       "      <th>4</th>\n",
       "      <td>4</td>\n",
       "      <td>Delhi</td>\n",
       "      <td>2020-01-05</td>\n",
       "      <td>493</td>\n",
       "      <td>50.3</td>\n",
       "      <td>34.8</td>\n",
       "      <td>31.2</td>\n",
       "      <td>35.6</td>\n",
       "      <td>33.5</td>\n",
       "      <td>72</td>\n",
       "      <td>9</td>\n",
       "      <td>Suburban</td>\n",
       "      <td>1631</td>\n",
       "    </tr>\n",
       "  </tbody>\n",
       "</table>\n",
       "</div>"
      ],
      "text/plain": [
       "   Unnamed: 0         city        date  aqi  pm2_5  pm10   no2    o3  \\\n",
       "0           0  Los Angeles  2020-01-01   65   34.0  52.7   2.2  38.5   \n",
       "1           1      Beijing  2020-01-02  137   33.7  31.5  36.7  27.5   \n",
       "2           2       London  2020-01-03  266   43.0  59.6  30.4  57.3   \n",
       "3           3  Mexico City  2020-01-04  293   33.7  37.9  12.3  42.7   \n",
       "4           4        Delhi  2020-01-05  493   50.3  34.8  31.2  35.6   \n",
       "\n",
       "   temperature  humidity  hospital_admissions population_density  \\\n",
       "0         33.5        33                    5              Rural   \n",
       "1         -1.6        32                    4              Urban   \n",
       "2         36.4        25                   10           Suburban   \n",
       "3         -1.0        67                   10              Urban   \n",
       "4         33.5        72                    9           Suburban   \n",
       "\n",
       "   hospital_capacity  \n",
       "0               1337  \n",
       "1               1545  \n",
       "2               1539  \n",
       "3                552  \n",
       "4               1631  "
      ]
     },
     "execution_count": 6,
     "metadata": {},
     "output_type": "execute_result"
    }
   ],
   "source": [
    "df_aqi.head()"
   ]
  },
  {
   "cell_type": "code",
   "execution_count": 8,
   "id": "dbb59ec6-6fc1-4931-a736-d789d6635aa5",
   "metadata": {},
   "outputs": [
    {
     "data": {
      "text/plain": [
       "(2192, 13)"
      ]
     },
     "execution_count": 8,
     "metadata": {},
     "output_type": "execute_result"
    }
   ],
   "source": [
    "df_aqi.shape"
   ]
  },
  {
   "cell_type": "code",
   "execution_count": 9,
   "id": "66b6ebcb-acdb-4bd2-b033-a14305b43798",
   "metadata": {},
   "outputs": [
    {
     "data": {
      "text/plain": [
       "Unnamed: 0             0\n",
       "city                   0\n",
       "date                   0\n",
       "aqi                    0\n",
       "pm2_5                  0\n",
       "pm10                   0\n",
       "no2                    0\n",
       "o3                     0\n",
       "temperature            0\n",
       "humidity               0\n",
       "hospital_admissions    0\n",
       "population_density     0\n",
       "hospital_capacity      0\n",
       "dtype: int64"
      ]
     },
     "execution_count": 9,
     "metadata": {},
     "output_type": "execute_result"
    }
   ],
   "source": [
    "## check for missing values\n",
    "df_aqi.isnull().sum()     ##no missing values"
   ]
  },
  {
   "cell_type": "code",
   "execution_count": 12,
   "id": "c7253607-8574-4db7-87b3-2971d73ec7dd",
   "metadata": {},
   "outputs": [],
   "source": [
    "## check for duplicates\n",
    "dups=df_aqi.duplicated()\n"
   ]
  },
  {
   "cell_type": "code",
   "execution_count": 14,
   "id": "b17c56f7-74ca-4e3a-beab-b1e5a4638d64",
   "metadata": {},
   "outputs": [
    {
     "data": {
      "text/plain": [
       "(2192,)"
      ]
     },
     "execution_count": 14,
     "metadata": {},
     "output_type": "execute_result"
    }
   ],
   "source": [
    "dups.shape  ##no duplicates found"
   ]
  },
  {
   "cell_type": "code",
   "execution_count": 16,
   "id": "f322b11c-4a1b-40c6-8d2b-37b3b815f670",
   "metadata": {},
   "outputs": [
    {
     "data": {
      "image/png": "[encoded data removed]",
      "text/plain": [
       "<Figure size 640x480 with 1 Axes>"
      ]
     },
     "metadata": {},
     "output_type": "display_data"
    }
   ],
   "source": [
    "## extreme value checks for pm2.5\n",
    "sns.histplot(df_aqi['pm2_5'], bins=20, kde = True)\n",
    "plt.show()"
   ]
  },
  {
   "cell_type": "code",
   "execution_count": 17,
   "id": "75382ba8-d743-4892-b3cf-75addffefbfd",
   "metadata": {},
   "outputs": [
    {
     "data": {
      "text/plain": [
       "34.926277372262774"
      ]
     },
     "execution_count": 17,
     "metadata": {},
     "output_type": "execute_result"
    }
   ],
   "source": [
    "## descriptives of pm2.5\n",
    "df_aqi['pm2_5'].mean()"
   ]
  },
  {
   "cell_type": "code",
   "execution_count": 18,
   "id": "691142c0-9854-4e66-8a4b-a37e1939c9fc",
   "metadata": {},
   "outputs": [
    {
     "data": {
      "text/plain": [
       "87.7"
      ]
     },
     "execution_count": 18,
     "metadata": {},
     "output_type": "execute_result"
    }
   ],
   "source": [
    "df_aqi['pm2_5'].max()"
   ]
  },
  {
   "cell_type": "code",
   "execution_count": 19,
   "id": "1c69db5c-6bf7-4598-bccf-9cde76094d93",
   "metadata": {},
   "outputs": [
    {
     "data": {
      "text/plain": [
       "0.2"
      ]
     },
     "execution_count": 19,
     "metadata": {},
     "output_type": "execute_result"
    }
   ],
   "source": [
    "df_aqi['pm2_5'].min()"
   ]
  },
  {
   "cell_type": "code",
   "execution_count": 21,
   "id": "dafb33bb-d17b-403f-a042-53ef7097244b",
   "metadata": {},
   "outputs": [
    {
     "data": {
      "image/png": "[encoded data removed]",
      "text/plain": [
       "<Figure size 640x480 with 1 Axes>"
      ]
     },
     "metadata": {},
     "output_type": "display_data"
    }
   ],
   "source": [
    "## extreme value check for hospital admissions\n",
    "sns.histplot(df_aqi['hospital_admissions'], bins=15, kde = True)\n",
    "plt.show()"
   ]
  },
  {
   "cell_type": "code",
   "execution_count": 23,
   "id": "4f81fd74-4e59-4da2-bc52-216fe4d399db",
   "metadata": {},
   "outputs": [
    {
     "data": {
      "text/plain": [
       "8.125456204379562"
      ]
     },
     "execution_count": 23,
     "metadata": {},
     "output_type": "execute_result"
    }
   ],
   "source": [
    "## descriptives for hospital admissions\n",
    "df_aqi['hospital_admissions'].mean()"
   ]
  },
  {
   "cell_type": "code",
   "execution_count": 24,
   "id": "41d08764-518c-48e2-b567-2ba8b0962ea0",
   "metadata": {},
   "outputs": [
    {
     "data": {
      "text/plain": [
       "22"
      ]
     },
     "execution_count": 24,
     "metadata": {},
     "output_type": "execute_result"
    }
   ],
   "source": [
    "df_aqi['hospital_admissions'].max()"
   ]
  },
  {
   "cell_type": "code",
   "execution_count": 25,
   "id": "24eb6f91-752e-445e-b268-2db15b355634",
   "metadata": {},
   "outputs": [
    {
     "data": {
      "text/plain": [
       "0"
      ]
     },
     "execution_count": 25,
     "metadata": {},
     "output_type": "execute_result"
    }
   ],
   "source": [
    "df_aqi['hospital_admissions'].min()"
   ]
  },
  {
   "cell_type": "code",
   "execution_count": 26,
   "id": "faa4a599-2dd9-41c1-a010-7218ce0a5c60",
   "metadata": {},
   "outputs": [],
   "source": [
    "zero_admissions = df_aqi[df_aqi['hospital_admissions'] == 0]"
   ]
  },
  {
   "cell_type": "code",
   "execution_count": 28,
   "id": "bd17ab38-bee3-4ec8-83e4-f279eb03c190",
   "metadata": {},
   "outputs": [
    {
     "data": {
      "text/plain": [
       "37"
      ]
     },
     "execution_count": 28,
     "metadata": {},
     "output_type": "execute_result"
    }
   ],
   "source": [
    "len(zero_admissions)"
   ]
  },
  {
   "cell_type": "code",
   "execution_count": 29,
   "id": "55223e86-9930-4702-83c0-970398ceb215",
   "metadata": {},
   "outputs": [
    {
     "name": "stdout",
     "output_type": "stream",
     "text": [
      "      Unnamed: 0         city        date  aqi  pm2_5  pm10   no2    o3  \\\n",
      "59            59        Delhi  2020-02-29   81    8.6  30.1  17.5  39.2   \n",
      "63            63  Los Angeles  2020-03-04    2    4.9  41.6  38.2  37.7   \n",
      "64            64  Mexico City  2020-03-05  240   33.8  61.9  38.4  27.4   \n",
      "274          274  Mexico City  2020-10-01  139   38.4  56.7  20.4  37.1   \n",
      "287          287      Beijing  2020-10-14  478    8.3  52.6  52.4  12.4   \n",
      "297          297       London  2020-10-24  369   27.6  47.1  21.8  43.4   \n",
      "311          311      Beijing  2020-11-07  299    4.8  79.1  38.0  52.4   \n",
      "314          314      Beijing  2020-11-10  348   11.7  22.8  20.6  10.4   \n",
      "368          368      Beijing  2021-01-03  382   35.3  28.1  23.4  18.4   \n",
      "572          572      Beijing  2021-07-26  205    4.3   2.0  27.1  33.5   \n",
      "634          634        Delhi  2021-09-26  408   30.7  35.6  25.1  24.6   \n",
      "731          731        Delhi  2022-01-01  100   20.2  62.9  39.2  46.9   \n",
      "735          735  Mexico City  2022-01-05  159    2.1  32.6  30.5  34.4   \n",
      "797          797        Delhi  2022-03-08   66   28.9  40.7  23.8  53.5   \n",
      "881          881  Mexico City  2022-05-31  333   19.5  61.3  16.2  40.5   \n",
      "999          999        Delhi  2022-09-26   24   48.3  41.8  31.5  44.9   \n",
      "1051        1051        Delhi  2022-11-17  435    5.3  74.1  12.0  49.5   \n",
      "1058        1058      Beijing  2022-11-24  397   29.1  46.1  31.3  37.6   \n",
      "1125        1125  Mexico City  2023-01-30  405   22.9  84.8  24.3  33.5   \n",
      "1143        1143       London  2023-02-17  396   30.9  21.9  30.8  47.6   \n",
      "1232        1232        Delhi  2023-05-17  305   36.6  64.7  38.5  45.0   \n",
      "1246        1246  Mexico City  2023-05-31  284   21.4  48.8  22.3  36.1   \n",
      "1254        1254        Delhi  2023-06-08  305   20.7  41.7  46.2  17.0   \n",
      "1323        1323  Los Angeles  2023-08-16  177    2.8  61.9  35.4  57.4   \n",
      "1383        1383    São Paulo  2023-10-15  392   25.1  73.0  27.0  39.3   \n",
      "1385        1385        Delhi  2023-10-17   27    5.3  41.0  25.6  23.2   \n",
      "1476        1476      Beijing  2024-01-16  266   16.4  55.4  24.4  30.2   \n",
      "1594        1594       London  2024-05-13   55   18.4   7.4  41.5  46.3   \n",
      "1624        1624      Beijing  2024-06-12  461   24.9  83.3   9.2  47.9   \n",
      "1704        1704      Beijing  2024-08-31  276   16.7  31.0  36.5  57.8   \n",
      "1726        1726      Beijing  2024-09-22  455    7.4  53.1  22.8  33.5   \n",
      "1793        1793  Mexico City  2024-11-28  160   34.5  81.9  25.2  45.5   \n",
      "1844        1844        Delhi  2025-01-18  282    6.7  27.4  24.6  32.0   \n",
      "1875        1875  Los Angeles  2025-02-18  230   11.6  64.0  29.5  40.5   \n",
      "1876        1876        Delhi  2025-02-19  164    8.3  32.2  22.8  19.1   \n",
      "1887        1887        Delhi  2025-03-02  361   37.7  32.9  21.2  50.6   \n",
      "2176        2176      Beijing  2025-12-16  380    1.3   3.3  40.2  28.4   \n",
      "\n",
      "      temperature  humidity  hospital_admissions population_density  \\\n",
      "59           24.1        61                    0              Urban   \n",
      "63           12.0        79                    0              Urban   \n",
      "64           10.1        44                    0           Suburban   \n",
      "274          -2.3        70                    0           Suburban   \n",
      "287          25.8        26                    0           Suburban   \n",
      "297           9.3        93                    0              Urban   \n",
      "311          10.5        54                    0              Urban   \n",
      "314          -4.5        61                    0              Urban   \n",
      "368          27.7        84                    0           Suburban   \n",
      "572          -4.1        22                    0              Rural   \n",
      "634          36.0        73                    0           Suburban   \n",
      "731          30.1        33                    0              Urban   \n",
      "735          26.2        43                    0           Suburban   \n",
      "797          24.4        60                    0              Urban   \n",
      "881          30.4        41                    0              Urban   \n",
      "999          -2.9        86                    0              Urban   \n",
      "1051         27.7        47                    0              Urban   \n",
      "1058         33.7        35                    0              Rural   \n",
      "1125         24.8        40                    0              Urban   \n",
      "1143          4.5        39                    0              Rural   \n",
      "1232          5.1        56                    0              Urban   \n",
      "1246         19.3        39                    0              Urban   \n",
      "1254          4.2        47                    0              Urban   \n",
      "1323         29.3        67                    0              Rural   \n",
      "1383         26.1        35                    0              Rural   \n",
      "1385         10.2        63                    0              Urban   \n",
      "1476         11.9        69                    0           Suburban   \n",
      "1594          0.3        33                    0              Urban   \n",
      "1624          9.5        32                    0              Urban   \n",
      "1704         37.4        22                    0              Urban   \n",
      "1726         30.3        81                    0              Urban   \n",
      "1793         10.4        91                    0           Suburban   \n",
      "1844         -2.2        76                    0              Urban   \n",
      "1875         34.6        82                    0              Urban   \n",
      "1876         19.2        44                    0              Rural   \n",
      "1887         36.3        93                    0           Suburban   \n",
      "2176         19.1        84                    0           Suburban   \n",
      "\n",
      "      hospital_capacity  \n",
      "59                 1141  \n",
      "63                 1966  \n",
      "64                  423  \n",
      "274                1123  \n",
      "287                 491  \n",
      "297                1054  \n",
      "311                1194  \n",
      "314                 539  \n",
      "368                 727  \n",
      "572                1109  \n",
      "634                 888  \n",
      "731                1809  \n",
      "735                 100  \n",
      "797                1327  \n",
      "881                 460  \n",
      "999                 653  \n",
      "1051                772  \n",
      "1058                865  \n",
      "1125                378  \n",
      "1143                923  \n",
      "1232               1906  \n",
      "1246               1292  \n",
      "1254                699  \n",
      "1323                 70  \n",
      "1383               1985  \n",
      "1385               1673  \n",
      "1476               1478  \n",
      "1594                935  \n",
      "1624                767  \n",
      "1704                297  \n",
      "1726               1998  \n",
      "1793                 80  \n",
      "1844                573  \n",
      "1875                170  \n",
      "1876                248  \n",
      "1887                162  \n",
      "2176               1365  \n"
     ]
    }
   ],
   "source": [
    "print(zero_admissions)"
   ]
  },
  {
   "cell_type": "code",
   "execution_count": 31,
   "id": "349fcd81-d32e-4db6-a231-24cda55147c7",
   "metadata": {},
   "outputs": [
    {
     "name": "stdout",
     "output_type": "stream",
     "text": [
      "      pm2_5         city  hospital_admissions\n",
      "59      8.6        Delhi                    0\n",
      "63      4.9  Los Angeles                    0\n",
      "64     33.8  Mexico City                    0\n",
      "274    38.4  Mexico City                    0\n",
      "287     8.3      Beijing                    0\n",
      "297    27.6       London                    0\n",
      "311     4.8      Beijing                    0\n",
      "314    11.7      Beijing                    0\n",
      "368    35.3      Beijing                    0\n",
      "572     4.3      Beijing                    0\n",
      "634    30.7        Delhi                    0\n",
      "731    20.2        Delhi                    0\n",
      "735     2.1  Mexico City                    0\n",
      "797    28.9        Delhi                    0\n",
      "881    19.5  Mexico City                    0\n",
      "999    48.3        Delhi                    0\n",
      "1051    5.3        Delhi                    0\n",
      "1058   29.1      Beijing                    0\n",
      "1125   22.9  Mexico City                    0\n",
      "1143   30.9       London                    0\n",
      "1232   36.6        Delhi                    0\n",
      "1246   21.4  Mexico City                    0\n",
      "1254   20.7        Delhi                    0\n",
      "1323    2.8  Los Angeles                    0\n",
      "1383   25.1    São Paulo                    0\n",
      "1385    5.3        Delhi                    0\n",
      "1476   16.4      Beijing                    0\n",
      "1594   18.4       London                    0\n",
      "1624   24.9      Beijing                    0\n",
      "1704   16.7      Beijing                    0\n",
      "1726    7.4      Beijing                    0\n",
      "1793   34.5  Mexico City                    0\n",
      "1844    6.7        Delhi                    0\n",
      "1875   11.6  Los Angeles                    0\n",
      "1876    8.3        Delhi                    0\n",
      "1887   37.7        Delhi                    0\n",
      "2176    1.3      Beijing                    0\n"
     ]
    }
   ],
   "source": [
    "print(zero_admissions[['pm2_5', 'city','hospital_admissions']])"
   ]
  },
  {
   "cell_type": "markdown",
   "id": "473f7d45-fffa-4509-bd81-618b396f717b",
   "metadata": {},
   "source": [
    "#### After careful consideration, I have decided to keep the values with 0 hospital admissions. We want to see if higher PM2.5 levels increase hospital admissions, so dropping them would mean that we are only looking at data with hospital admissions and can create bias. "
   ]
  },
  {
   "cell_type": "markdown",
   "id": "69cff638-1849-4271-a4c0-8d210da07890",
   "metadata": {},
   "source": [
    "## 3. Data prep for regression analysis"
   ]
  },
  {
   "cell_type": "code",
   "execution_count": 33,
   "id": "a0da98aa-a3e9-4dc9-ad55-f6be85aed4eb",
   "metadata": {},
   "outputs": [
    {
     "data": {
      "image/png": "[encoded data removed]",
      "text/plain": [
       "<Figure size 640x480 with 1 Axes>"
      ]
     },
     "metadata": {},
     "output_type": "display_data"
    }
   ],
   "source": [
    "# Create a scatterplot using matplotlib\n",
    "df_aqi.plot(x = 'pm2_5', y='hospital_admissions',style='o') \n",
    "plt.title('pm2_5 vs hospitalization')  \n",
    "plt.xlabel('pm2_5')  \n",
    "plt.ylabel('hospital_admissions')  \n",
    "plt.show()"
   ]
  },
  {
   "cell_type": "code",
   "execution_count": 34,
   "id": "356cbf7c-38c6-43e9-9890-7f10149ea9c5",
   "metadata": {},
   "outputs": [],
   "source": [
    "# Reshape the variables into NumPy arrays and put them into separate objects.\n",
    "\n",
    "X = df_aqi['pm2_5'].values.reshape(-1,1)\n",
    "y = df_aqi['hospital_admissions'].values.reshape(-1,1)"
   ]
  },
  {
   "cell_type": "code",
   "execution_count": 35,
   "id": "2a7daa5b-a700-4eac-be7a-92a6c7700d57",
   "metadata": {},
   "outputs": [
    {
     "data": {
      "text/plain": [
       "array([[34. ],\n",
       "       [33.7],\n",
       "       [43. ],\n",
       "       ...,\n",
       "       [43.2],\n",
       "       [54.5],\n",
       "       [54.3]])"
      ]
     },
     "execution_count": 35,
     "metadata": {},
     "output_type": "execute_result"
    }
   ],
   "source": [
    "X"
   ]
  },
  {
   "cell_type": "code",
   "execution_count": 37,
   "id": "47e4ffdf-ef68-4d61-b8be-47a2114600d1",
   "metadata": {},
   "outputs": [
    {
     "data": {
      "text/plain": [
       "array([[ 5],\n",
       "       [ 4],\n",
       "       [10],\n",
       "       ...,\n",
       "       [12],\n",
       "       [12],\n",
       "       [ 9]], dtype=int64)"
      ]
     },
     "execution_count": 37,
     "metadata": {},
     "output_type": "execute_result"
    }
   ],
   "source": [
    "y"
   ]
  },
  {
   "cell_type": "code",
   "execution_count": 38,
   "id": "6fa8cf5a-11bd-430b-a085-1d3595fdf19a",
   "metadata": {},
   "outputs": [
    {
     "data": {
      "text/plain": [
       "2192"
      ]
     },
     "execution_count": 38,
     "metadata": {},
     "output_type": "execute_result"
    }
   ],
   "source": [
    "len(y)"
   ]
  },
  {
   "cell_type": "code",
   "execution_count": 39,
   "id": "1c97c38e-deec-4098-859c-bc62df26a63e",
   "metadata": {},
   "outputs": [],
   "source": [
    "# Split data into a training set and a test set.\n",
    "\n",
    "X_train, X_test, y_train, y_test = train_test_split(X, y, test_size=0.3, random_state=0)"
   ]
  },
  {
   "cell_type": "markdown",
   "id": "9fe96a5a-f8e4-4e7c-b4ed-e53d436a78df",
   "metadata": {},
   "source": [
    "## 4. Regression analysis"
   ]
  },
  {
   "cell_type": "code",
   "execution_count": 40,
   "id": "dcb2b93d-7b50-475c-ace6-3372d92cf720",
   "metadata": {},
   "outputs": [],
   "source": [
    "# Create a regression object.\n",
    "regress = LinearRegression() "
   ]
  },
  {
   "cell_type": "code",
   "execution_count": 41,
   "id": "3c749688-3a49-465b-b57a-cb9ebb28275c",
   "metadata": {},
   "outputs": [
    {
     "data": {
      "text/html": [
       "<style>#sk-container-id-1 {\n",
       "  /* Definition of color scheme common for light and dark mode */\n",
       "  --sklearn-color-text: black;\n",
       "  --sklearn-color-line: gray;\n",
       "  /* Definition of color scheme for unfitted estimators */\n",
       "  --sklearn-color-unfitted-level-0: #fff5e6;\n",
       "  --sklearn-color-unfitted-level-1: #f6e4d2;\n",
       "  --sklearn-color-unfitted-level-2: #ffe0b3;\n",
       "  --sklearn-color-unfitted-level-3: chocolate;\n",
       "  /* Definition of color scheme for fitted estimators */\n",
       "  --sklearn-color-fitted-level-0: #f0f8ff;\n",
       "  --sklearn-color-fitted-level-1: #d4ebff;\n",
       "  --sklearn-color-fitted-level-2: #b3dbfd;\n",
       "  --sklearn-color-fitted-level-3: cornflowerblue;\n",
       "\n",
       "  /* Specific color for light theme */\n",
       "  --sklearn-color-text-on-default-background: var(--sg-text-color, var(--theme-code-foreground, var(--jp-content-font-color1, black)));\n",
       "  --sklearn-color-background: var(--sg-background-color, var(--theme-background, var(--jp-layout-color0, white)));\n",
       "  --sklearn-color-border-box: var(--sg-text-color, var(--theme-code-foreground, var(--jp-content-font-color1, black)));\n",
       "  --sklearn-color-icon: #696969;\n",
       "\n",
       "  @media (prefers-color-scheme: dark) {\n",
       "    /* Redefinition of color scheme for dark theme */\n",
       "    --sklearn-color-text-on-default-background: var(--sg-text-color, var(--theme-code-foreground, var(--jp-content-font-color1, white)));\n",
       "    --sklearn-color-background: var(--sg-background-color, var(--theme-background, var(--jp-layout-color0, #111)));\n",
       "    --sklearn-color-border-box: var(--sg-text-color, var(--theme-code-foreground, var(--jp-content-font-color1, white)));\n",
       "    --sklearn-color-icon: #878787;\n",
       "  }\n",
       "}\n",
       "\n",
       "#sk-container-id-1 {\n",
       "  color: var(--sklearn-color-text);\n",
       "}\n",
       "\n",
       "#sk-container-id-1 pre {\n",
       "  padding: 0;\n",
       "}\n",
       "\n",
       "#sk-container-id-1 input.sk-hidden--visually {\n",
       "  border: 0;\n",
       "  clip: rect(1px 1px 1px 1px);\n",
       "  clip: rect(1px, 1px, 1px, 1px);\n",
       "  height: 1px;\n",
       "  margin: -1px;\n",
       "  overflow: hidden;\n",
       "  padding: 0;\n",
       "  position: absolute;\n",
       "  width: 1px;\n",
       "}\n",
       "\n",
       "#sk-container-id-1 div.sk-dashed-wrapped {\n",
       "  border: 1px dashed var(--sklearn-color-line);\n",
       "  margin: 0 0.4em 0.5em 0.4em;\n",
       "  box-sizing: border-box;\n",
       "  padding-bottom: 0.4em;\n",
       "  background-color: var(--sklearn-color-background);\n",
       "}\n",
       "\n",
       "#sk-container-id-1 div.sk-container {\n",
       "  /* jupyter's `normalize.less` sets `[hidden] { display: none; }`\n",
       "     but bootstrap.min.css set `[hidden] { display: none !important; }`\n",
       "     so we also need the `!important` here to be able to override the\n",
       "     default hidden behavior on the sphinx rendered scikit-learn.org.\n",
       "     See: https://github.com/scikit-learn/scikit-learn/issues/21755 */\n",
       "  display: inline-block !important;\n",
       "  position: relative;\n",
       "}\n",
       "\n",
       "#sk-container-id-1 div.sk-text-repr-fallback {\n",
       "  display: none;\n",
       "}\n",
       "\n",
       "div.sk-parallel-item,\n",
       "div.sk-serial,\n",
       "div.sk-item {\n",
       "  /* draw centered vertical line to link estimators */\n",
       "  background-image: linear-gradient(var(--sklearn-color-text-on-default-background), var(--sklearn-color-text-on-default-background));\n",
       "  background-size: 2px 100%;\n",
       "  background-repeat: no-repeat;\n",
       "  background-position: center center;\n",
       "}\n",
       "\n",
       "/* Parallel-specific style estimator block */\n",
       "\n",
       "#sk-container-id-1 div.sk-parallel-item::after {\n",
       "  content: \"\";\n",
       "  width: 100%;\n",
       "  border-bottom: 2px solid var(--sklearn-color-text-on-default-background);\n",
       "  flex-grow: 1;\n",
       "}\n",
       "\n",
       "#sk-container-id-1 div.sk-parallel {\n",
       "  display: flex;\n",
       "  align-items: stretch;\n",
       "  justify-content: center;\n",
       "  background-color: var(--sklearn-color-background);\n",
       "  position: relative;\n",
       "}\n",
       "\n",
       "#sk-container-id-1 div.sk-parallel-item {\n",
       "  display: flex;\n",
       "  flex-direction: column;\n",
       "}\n",
       "\n",
       "#sk-container-id-1 div.sk-parallel-item:first-child::after {\n",
       "  align-self: flex-end;\n",
       "  width: 50%;\n",
       "}\n",
       "\n",
       "#sk-container-id-1 div.sk-parallel-item:last-child::after {\n",
       "  align-self: flex-start;\n",
       "  width: 50%;\n",
       "}\n",
       "\n",
       "#sk-container-id-1 div.sk-parallel-item:only-child::after {\n",
       "  width: 0;\n",
       "}\n",
       "\n",
       "/* Serial-specific style estimator block */\n",
       "\n",
       "#sk-container-id-1 div.sk-serial {\n",
       "  display: flex;\n",
       "  flex-direction: column;\n",
       "  align-items: center;\n",
       "  background-color: var(--sklearn-color-background);\n",
       "  padding-right: 1em;\n",
       "  padding-left: 1em;\n",
       "}\n",
       "\n",
       "\n",
       "/* Toggleable style: style used for estimator/Pipeline/ColumnTransformer box that is\n",
       "clickable and can be expanded/collapsed.\n",
       "- Pipeline and ColumnTransformer use this feature and define the default style\n",
       "- Estimators will overwrite some part of the style using the `sk-estimator` class\n",
       "*/\n",
       "\n",
       "/* Pipeline and ColumnTransformer style (default) */\n",
       "\n",
       "#sk-container-id-1 div.sk-toggleable {\n",
       "  /* Default theme specific background. It is overwritten whether we have a\n",
       "  specific estimator or a Pipeline/ColumnTransformer */\n",
       "  background-color: var(--sklearn-color-background);\n",
       "}\n",
       "\n",
       "/* Toggleable label */\n",
       "#sk-container-id-1 label.sk-toggleable__label {\n",
       "  cursor: pointer;\n",
       "  display: block;\n",
       "  width: 100%;\n",
       "  margin-bottom: 0;\n",
       "  padding: 0.5em;\n",
       "  box-sizing: border-box;\n",
       "  text-align: center;\n",
       "}\n",
       "\n",
       "#sk-container-id-1 label.sk-toggleable__label-arrow:before {\n",
       "  /* Arrow on the left of the label */\n",
       "  content: \"▸\";\n",
       "  float: left;\n",
       "  margin-right: 0.25em;\n",
       "  color: var(--sklearn-color-icon);\n",
       "}\n",
       "\n",
       "#sk-container-id-1 label.sk-toggleable__label-arrow:hover:before {\n",
       "  color: var(--sklearn-color-text);\n",
       "}\n",
       "\n",
       "/* Toggleable content - dropdown */\n",
       "\n",
       "#sk-container-id-1 div.sk-toggleable__content {\n",
       "  max-height: 0;\n",
       "  max-width: 0;\n",
       "  overflow: hidden;\n",
       "  text-align: left;\n",
       "  /* unfitted */\n",
       "  background-color: var(--sklearn-color-unfitted-level-0);\n",
       "}\n",
       "\n",
       "#sk-container-id-1 div.sk-toggleable__content.fitted {\n",
       "  /* fitted */\n",
       "  background-color: var(--sklearn-color-fitted-level-0);\n",
       "}\n",
       "\n",
       "#sk-container-id-1 div.sk-toggleable__content pre {\n",
       "  margin: 0.2em;\n",
       "  border-radius: 0.25em;\n",
       "  color: var(--sklearn-color-text);\n",
       "  /* unfitted */\n",
       "  background-color: var(--sklearn-color-unfitted-level-0);\n",
       "}\n",
       "\n",
       "#sk-container-id-1 div.sk-toggleable__content.fitted pre {\n",
       "  /* unfitted */\n",
       "  background-color: var(--sklearn-color-fitted-level-0);\n",
       "}\n",
       "\n",
       "#sk-container-id-1 input.sk-toggleable__control:checked~div.sk-toggleable__content {\n",
       "  /* Expand drop-down */\n",
       "  max-height: 200px;\n",
       "  max-width: 100%;\n",
       "  overflow: auto;\n",
       "}\n",
       "\n",
       "#sk-container-id-1 input.sk-toggleable__control:checked~label.sk-toggleable__label-arrow:before {\n",
       "  content: \"▾\";\n",
       "}\n",
       "\n",
       "/* Pipeline/ColumnTransformer-specific style */\n",
       "\n",
       "#sk-container-id-1 div.sk-label input.sk-toggleable__control:checked~label.sk-toggleable__label {\n",
       "  color: var(--sklearn-color-text);\n",
       "  background-color: var(--sklearn-color-unfitted-level-2);\n",
       "}\n",
       "\n",
       "#sk-container-id-1 div.sk-label.fitted input.sk-toggleable__control:checked~label.sk-toggleable__label {\n",
       "  background-color: var(--sklearn-color-fitted-level-2);\n",
       "}\n",
       "\n",
       "/* Estimator-specific style */\n",
       "\n",
       "/* Colorize estimator box */\n",
       "#sk-container-id-1 div.sk-estimator input.sk-toggleable__control:checked~label.sk-toggleable__label {\n",
       "  /* unfitted */\n",
       "  background-color: var(--sklearn-color-unfitted-level-2);\n",
       "}\n",
       "\n",
       "#sk-container-id-1 div.sk-estimator.fitted input.sk-toggleable__control:checked~label.sk-toggleable__label {\n",
       "  /* fitted */\n",
       "  background-color: var(--sklearn-color-fitted-level-2);\n",
       "}\n",
       "\n",
       "#sk-container-id-1 div.sk-label label.sk-toggleable__label,\n",
       "#sk-container-id-1 div.sk-label label {\n",
       "  /* The background is the default theme color */\n",
       "  color: var(--sklearn-color-text-on-default-background);\n",
       "}\n",
       "\n",
       "/* On hover, darken the color of the background */\n",
       "#sk-container-id-1 div.sk-label:hover label.sk-toggleable__label {\n",
       "  color: var(--sklearn-color-text);\n",
       "  background-color: var(--sklearn-color-unfitted-level-2);\n",
       "}\n",
       "\n",
       "/* Label box, darken color on hover, fitted */\n",
       "#sk-container-id-1 div.sk-label.fitted:hover label.sk-toggleable__label.fitted {\n",
       "  color: var(--sklearn-color-text);\n",
       "  background-color: var(--sklearn-color-fitted-level-2);\n",
       "}\n",
       "\n",
       "/* Estimator label */\n",
       "\n",
       "#sk-container-id-1 div.sk-label label {\n",
       "  font-family: monospace;\n",
       "  font-weight: bold;\n",
       "  display: inline-block;\n",
       "  line-height: 1.2em;\n",
       "}\n",
       "\n",
       "#sk-container-id-1 div.sk-label-container {\n",
       "  text-align: center;\n",
       "}\n",
       "\n",
       "/* Estimator-specific */\n",
       "#sk-container-id-1 div.sk-estimator {\n",
       "  font-family: monospace;\n",
       "  border: 1px dotted var(--sklearn-color-border-box);\n",
       "  border-radius: 0.25em;\n",
       "  box-sizing: border-box;\n",
       "  margin-bottom: 0.5em;\n",
       "  /* unfitted */\n",
       "  background-color: var(--sklearn-color-unfitted-level-0);\n",
       "}\n",
       "\n",
       "#sk-container-id-1 div.sk-estimator.fitted {\n",
       "  /* fitted */\n",
       "  background-color: var(--sklearn-color-fitted-level-0);\n",
       "}\n",
       "\n",
       "/* on hover */\n",
       "#sk-container-id-1 div.sk-estimator:hover {\n",
       "  /* unfitted */\n",
       "  background-color: var(--sklearn-color-unfitted-level-2);\n",
       "}\n",
       "\n",
       "#sk-container-id-1 div.sk-estimator.fitted:hover {\n",
       "  /* fitted */\n",
       "  background-color: var(--sklearn-color-fitted-level-2);\n",
       "}\n",
       "\n",
       "/* Specification for estimator info (e.g. \"i\" and \"?\") */\n",
       "\n",
       "/* Common style for \"i\" and \"?\" */\n",
       "\n",
       ".sk-estimator-doc-link,\n",
       "a:link.sk-estimator-doc-link,\n",
       "a:visited.sk-estimator-doc-link {\n",
       "  float: right;\n",
       "  font-size: smaller;\n",
       "  line-height: 1em;\n",
       "  font-family: monospace;\n",
       "  background-color: var(--sklearn-color-background);\n",
       "  border-radius: 1em;\n",
       "  height: 1em;\n",
       "  width: 1em;\n",
       "  text-decoration: none !important;\n",
       "  margin-left: 1ex;\n",
       "  /* unfitted */\n",
       "  border: var(--sklearn-color-unfitted-level-1) 1pt solid;\n",
       "  color: var(--sklearn-color-unfitted-level-1);\n",
       "}\n",
       "\n",
       ".sk-estimator-doc-link.fitted,\n",
       "a:link.sk-estimator-doc-link.fitted,\n",
       "a:visited.sk-estimator-doc-link.fitted {\n",
       "  /* fitted */\n",
       "  border: var(--sklearn-color-fitted-level-1) 1pt solid;\n",
       "  color: var(--sklearn-color-fitted-level-1);\n",
       "}\n",
       "\n",
       "/* On hover */\n",
       "div.sk-estimator:hover .sk-estimator-doc-link:hover,\n",
       ".sk-estimator-doc-link:hover,\n",
       "div.sk-label-container:hover .sk-estimator-doc-link:hover,\n",
       ".sk-estimator-doc-link:hover {\n",
       "  /* unfitted */\n",
       "  background-color: var(--sklearn-color-unfitted-level-3);\n",
       "  color: var(--sklearn-color-background);\n",
       "  text-decoration: none;\n",
       "}\n",
       "\n",
       "div.sk-estimator.fitted:hover .sk-estimator-doc-link.fitted:hover,\n",
       ".sk-estimator-doc-link.fitted:hover,\n",
       "div.sk-label-container:hover .sk-estimator-doc-link.fitted:hover,\n",
       ".sk-estimator-doc-link.fitted:hover {\n",
       "  /* fitted */\n",
       "  background-color: var(--sklearn-color-fitted-level-3);\n",
       "  color: var(--sklearn-color-background);\n",
       "  text-decoration: none;\n",
       "}\n",
       "\n",
       "/* Span, style for the box shown on hovering the info icon */\n",
       ".sk-estimator-doc-link span {\n",
       "  display: none;\n",
       "  z-index: 9999;\n",
       "  position: relative;\n",
       "  font-weight: normal;\n",
       "  right: .2ex;\n",
       "  padding: .5ex;\n",
       "  margin: .5ex;\n",
       "  width: min-content;\n",
       "  min-width: 20ex;\n",
       "  max-width: 50ex;\n",
       "  color: var(--sklearn-color-text);\n",
       "  box-shadow: 2pt 2pt 4pt #999;\n",
       "  /* unfitted */\n",
       "  background: var(--sklearn-color-unfitted-level-0);\n",
       "  border: .5pt solid var(--sklearn-color-unfitted-level-3);\n",
       "}\n",
       "\n",
       ".sk-estimator-doc-link.fitted span {\n",
       "  /* fitted */\n",
       "  background: var(--sklearn-color-fitted-level-0);\n",
       "  border: var(--sklearn-color-fitted-level-3);\n",
       "}\n",
       "\n",
       ".sk-estimator-doc-link:hover span {\n",
       "  display: block;\n",
       "}\n",
       "\n",
       "/* \"?\"-specific style due to the `<a>` HTML tag */\n",
       "\n",
       "#sk-container-id-1 a.estimator_doc_link {\n",
       "  float: right;\n",
       "  font-size: 1rem;\n",
       "  line-height: 1em;\n",
       "  font-family: monospace;\n",
       "  background-color: var(--sklearn-color-background);\n",
       "  border-radius: 1rem;\n",
       "  height: 1rem;\n",
       "  width: 1rem;\n",
       "  text-decoration: none;\n",
       "  /* unfitted */\n",
       "  color: var(--sklearn-color-unfitted-level-1);\n",
       "  border: var(--sklearn-color-unfitted-level-1) 1pt solid;\n",
       "}\n",
       "\n",
       "#sk-container-id-1 a.estimator_doc_link.fitted {\n",
       "  /* fitted */\n",
       "  border: var(--sklearn-color-fitted-level-1) 1pt solid;\n",
       "  color: var(--sklearn-color-fitted-level-1);\n",
       "}\n",
       "\n",
       "/* On hover */\n",
       "#sk-container-id-1 a.estimator_doc_link:hover {\n",
       "  /* unfitted */\n",
       "  background-color: var(--sklearn-color-unfitted-level-3);\n",
       "  color: var(--sklearn-color-background);\n",
       "  text-decoration: none;\n",
       "}\n",
       "\n",
       "#sk-container-id-1 a.estimator_doc_link.fitted:hover {\n",
       "  /* fitted */\n",
       "  background-color: var(--sklearn-color-fitted-level-3);\n",
       "}\n",
       "</style><div id=\"sk-container-id-1\" class=\"sk-top-container\"><div class=\"sk-text-repr-fallback\"><pre>LinearRegression()</pre><b>In a Jupyter environment, please rerun this cell to show the HTML representation or trust the notebook. <br />On GitHub, the HTML representation is unable to render, please try loading this page with nbviewer.org.</b></div><div class=\"sk-container\" hidden><div class=\"sk-item\"><div class=\"sk-estimator fitted sk-toggleable\"><input class=\"sk-toggleable__control sk-hidden--visually\" id=\"sk-estimator-id-1\" type=\"checkbox\" checked><label for=\"sk-estimator-id-1\" class=\"sk-toggleable__label fitted sk-toggleable__label-arrow fitted\">&nbsp;&nbsp;LinearRegression<a class=\"sk-estimator-doc-link fitted\" rel=\"noreferrer\" target=\"_blank\" href=\"https://scikit-learn.org/1.5/modules/generated/sklearn.linear_model.LinearRegression.html\">?<span>Documentation for LinearRegression</span></a><span class=\"sk-estimator-doc-link fitted\">i<span>Fitted</span></span></label><div class=\"sk-toggleable__content fitted\"><pre>LinearRegression()</pre></div> </div></div></div></div>"
      ],
      "text/plain": [
       "LinearRegression()"
      ]
     },
     "execution_count": 41,
     "metadata": {},
     "output_type": "execute_result"
    }
   ],
   "source": [
    "# Fit the regression object onto the training set.\n",
    "regress.fit(X_train, y_train)"
   ]
  },
  {
   "cell_type": "code",
   "execution_count": 43,
   "id": "86cd5b41-f8a5-4d97-a976-58f460b0e7e3",
   "metadata": {},
   "outputs": [],
   "source": [
    "# Predict the values of y using X.\n",
    "\n",
    "y_predicted = regress.predict(X_test)"
   ]
  },
  {
   "cell_type": "code",
   "execution_count": 44,
   "id": "bea8bb65-0472-42ec-bab7-0f9bf7e34b92",
   "metadata": {},
   "outputs": [
    {
     "data": {
      "image/png": "[encoded data removed]",
      "text/plain": [
       "<Figure size 640x480 with 1 Axes>"
      ]
     },
     "metadata": {},
     "output_type": "display_data"
    }
   ],
   "source": [
    "# Create a plot showing the regression line from the model on the test set.\n",
    "\n",
    "plot_test = plt\n",
    "plot_test.scatter(X_test, y_test, color='gray', s = 15)\n",
    "plot_test.plot(X_test, y_predicted, color='red', linewidth =3)\n",
    "plot_test.title('pm2.5 and hospital admissions (Test set)')\n",
    "plot_test.xlabel('pm2_5')\n",
    "plot_test.ylabel('hospital_admissions')\n",
    "plot_test.show()"
   ]
  },
  {
   "cell_type": "markdown",
   "id": "d848590a-aea8-4068-9455-9de5b5a7eacc",
   "metadata": {},
   "source": [
    "### There is a positive upward trend but line of best fit is not very steep indicating a weak relation. There are still a large number of data points with both low and high hospital admissions irrespective of pm2.5 levels.  "
   ]
  },
  {
   "cell_type": "markdown",
   "id": "e33e641b-943c-4519-827a-b84ebb7f92e8",
   "metadata": {},
   "source": [
    "#### Model summary statistics"
   ]
  },
  {
   "cell_type": "code",
   "execution_count": 45,
   "id": "7336478f-e192-466a-9ec7-db04b8644b70",
   "metadata": {},
   "outputs": [],
   "source": [
    "# Create objects that contain the model summary statistics.\n",
    "\n",
    "rmse = mean_squared_error(y_test, y_predicted) \n",
    "r2 = r2_score(y_test, y_predicted)  "
   ]
  },
  {
   "cell_type": "code",
   "execution_count": 49,
   "id": "2f28bd54-c424-43ac-860c-12812e86bf5b",
   "metadata": {},
   "outputs": [
    {
     "name": "stdout",
     "output_type": "stream",
     "text": [
      "Slope: [[0.10156414]]\n",
      "Mean squared error:  10.28359345142095\n",
      "R2 score:  0.2052169066435121\n"
     ]
    }
   ],
   "source": [
    "print('Slope:' ,regress.coef_)\n",
    "print('Mean squared error: ', rmse)\n",
    "print('R2 score: ', r2)"
   ]
  },
  {
   "cell_type": "code",
   "execution_count": 51,
   "id": "d21e5655-6985-4602-a667-3d958245da32",
   "metadata": {},
   "outputs": [
    {
     "name": "stdout",
     "output_type": "stream",
     "text": [
      "13.807621882152326\n",
      "3.715860853443294\n"
     ]
    }
   ],
   "source": [
    "## Also checking the SD and variance for better understanding\n",
    "\n",
    "print(df_aqi['hospital_admissions'].var())   # Variance\n",
    "print(df_aqi['hospital_admissions'].std())   # Standard deviation"
   ]
  },
  {
   "cell_type": "markdown",
   "id": "8c300fd7-d241-4bac-a8d9-f29296c64b9e",
   "metadata": {},
   "source": [
    "### The slope indicates a positive relation between pm2.5 and hospital admissions. R2 is very small which means that pm2.5 alone is not a good predictor for capturing the outcome. "
   ]
  },
  {
   "cell_type": "code",
   "execution_count": 50,
   "id": "80fdfe2c-c733-4316-862f-8a21350246d5",
   "metadata": {},
   "outputs": [
    {
     "data": {
      "text/html": [
       "<div>\n",
       "<style scoped>\n",
       "    .dataframe tbody tr th:only-of-type {\n",
       "        vertical-align: middle;\n",
       "    }\n",
       "\n",
       "    .dataframe tbody tr th {\n",
       "        vertical-align: top;\n",
       "    }\n",
       "\n",
       "    .dataframe thead th {\n",
       "        text-align: right;\n",
       "    }\n",
       "</style>\n",
       "<table border=\"1\" class=\"dataframe\">\n",
       "  <thead>\n",
       "    <tr style=\"text-align: right;\">\n",
       "      <th></th>\n",
       "      <th>Actual</th>\n",
       "      <th>Predicted</th>\n",
       "    </tr>\n",
       "  </thead>\n",
       "  <tbody>\n",
       "    <tr>\n",
       "      <th>0</th>\n",
       "      <td>11</td>\n",
       "      <td>9.046316</td>\n",
       "    </tr>\n",
       "    <tr>\n",
       "      <th>1</th>\n",
       "      <td>11</td>\n",
       "      <td>9.086942</td>\n",
       "    </tr>\n",
       "    <tr>\n",
       "      <th>2</th>\n",
       "      <td>0</td>\n",
       "      <td>5.806420</td>\n",
       "    </tr>\n",
       "    <tr>\n",
       "      <th>3</th>\n",
       "      <td>12</td>\n",
       "      <td>9.269757</td>\n",
       "    </tr>\n",
       "    <tr>\n",
       "      <th>4</th>\n",
       "      <td>4</td>\n",
       "      <td>7.370508</td>\n",
       "    </tr>\n",
       "    <tr>\n",
       "      <th>5</th>\n",
       "      <td>4</td>\n",
       "      <td>7.370508</td>\n",
       "    </tr>\n",
       "    <tr>\n",
       "      <th>6</th>\n",
       "      <td>10</td>\n",
       "      <td>6.720497</td>\n",
       "    </tr>\n",
       "    <tr>\n",
       "      <th>7</th>\n",
       "      <td>12</td>\n",
       "      <td>7.329882</td>\n",
       "    </tr>\n",
       "    <tr>\n",
       "      <th>8</th>\n",
       "      <td>0</td>\n",
       "      <td>6.669715</td>\n",
       "    </tr>\n",
       "    <tr>\n",
       "      <th>9</th>\n",
       "      <td>7</td>\n",
       "      <td>7.461916</td>\n",
       "    </tr>\n",
       "    <tr>\n",
       "      <th>10</th>\n",
       "      <td>6</td>\n",
       "      <td>8.162708</td>\n",
       "    </tr>\n",
       "    <tr>\n",
       "      <th>11</th>\n",
       "      <td>2</td>\n",
       "      <td>7.614262</td>\n",
       "    </tr>\n",
       "    <tr>\n",
       "      <th>12</th>\n",
       "      <td>12</td>\n",
       "      <td>6.578308</td>\n",
       "    </tr>\n",
       "    <tr>\n",
       "      <th>13</th>\n",
       "      <td>9</td>\n",
       "      <td>9.879142</td>\n",
       "    </tr>\n",
       "    <tr>\n",
       "      <th>14</th>\n",
       "      <td>10</td>\n",
       "      <td>9.483042</td>\n",
       "    </tr>\n",
       "    <tr>\n",
       "      <th>15</th>\n",
       "      <td>9</td>\n",
       "      <td>8.934596</td>\n",
       "    </tr>\n",
       "    <tr>\n",
       "      <th>16</th>\n",
       "      <td>12</td>\n",
       "      <td>10.772907</td>\n",
       "    </tr>\n",
       "    <tr>\n",
       "      <th>17</th>\n",
       "      <td>3</td>\n",
       "      <td>9.239288</td>\n",
       "    </tr>\n",
       "    <tr>\n",
       "      <th>18</th>\n",
       "      <td>4</td>\n",
       "      <td>6.954095</td>\n",
       "    </tr>\n",
       "    <tr>\n",
       "      <th>19</th>\n",
       "      <td>3</td>\n",
       "      <td>7.177536</td>\n",
       "    </tr>\n",
       "    <tr>\n",
       "      <th>20</th>\n",
       "      <td>4</td>\n",
       "      <td>6.994721</td>\n",
       "    </tr>\n",
       "    <tr>\n",
       "      <th>21</th>\n",
       "      <td>6</td>\n",
       "      <td>9.411947</td>\n",
       "    </tr>\n",
       "    <tr>\n",
       "      <th>22</th>\n",
       "      <td>9</td>\n",
       "      <td>8.223647</td>\n",
       "    </tr>\n",
       "    <tr>\n",
       "      <th>23</th>\n",
       "      <td>8</td>\n",
       "      <td>7.817390</td>\n",
       "    </tr>\n",
       "    <tr>\n",
       "      <th>24</th>\n",
       "      <td>5</td>\n",
       "      <td>6.608777</td>\n",
       "    </tr>\n",
       "    <tr>\n",
       "      <th>25</th>\n",
       "      <td>13</td>\n",
       "      <td>6.811905</td>\n",
       "    </tr>\n",
       "    <tr>\n",
       "      <th>26</th>\n",
       "      <td>8</td>\n",
       "      <td>8.213490</td>\n",
       "    </tr>\n",
       "    <tr>\n",
       "      <th>27</th>\n",
       "      <td>14</td>\n",
       "      <td>9.960394</td>\n",
       "    </tr>\n",
       "    <tr>\n",
       "      <th>28</th>\n",
       "      <td>4</td>\n",
       "      <td>6.517369</td>\n",
       "    </tr>\n",
       "    <tr>\n",
       "      <th>29</th>\n",
       "      <td>10</td>\n",
       "      <td>9.493198</td>\n",
       "    </tr>\n",
       "  </tbody>\n",
       "</table>\n",
       "</div>"
      ],
      "text/plain": [
       "    Actual  Predicted\n",
       "0       11   9.046316\n",
       "1       11   9.086942\n",
       "2        0   5.806420\n",
       "3       12   9.269757\n",
       "4        4   7.370508\n",
       "5        4   7.370508\n",
       "6       10   6.720497\n",
       "7       12   7.329882\n",
       "8        0   6.669715\n",
       "9        7   7.461916\n",
       "10       6   8.162708\n",
       "11       2   7.614262\n",
       "12      12   6.578308\n",
       "13       9   9.879142\n",
       "14      10   9.483042\n",
       "15       9   8.934596\n",
       "16      12  10.772907\n",
       "17       3   9.239288\n",
       "18       4   6.954095\n",
       "19       3   7.177536\n",
       "20       4   6.994721\n",
       "21       6   9.411947\n",
       "22       9   8.223647\n",
       "23       8   7.817390\n",
       "24       5   6.608777\n",
       "25      13   6.811905\n",
       "26       8   8.213490\n",
       "27      14   9.960394\n",
       "28       4   6.517369\n",
       "29      10   9.493198"
      ]
     },
     "execution_count": 50,
     "metadata": {},
     "output_type": "execute_result"
    }
   ],
   "source": [
    "df_aqi_model = pd.DataFrame({'Actual': y_test.flatten(), 'Predicted': y_predicted.flatten()})\n",
    "df_aqi_model.head(30)"
   ]
  },
  {
   "cell_type": "markdown",
   "id": "437ff176-d7cf-41f3-a04f-102e3d256a2b",
   "metadata": {},
   "source": [
    "#### A sidealong comparison between the predicted and actual values show that there is a big differnece between the two. This means that the mmodel is not doing a great job in explaining the relationship between the two variables. maybe pm2.5 alone is not the only predictor variable responsible for hospital admissions. "
   ]
  },
  {
   "cell_type": "markdown",
   "id": "570dfadc-22b6-478f-a74d-d0824a390bcd",
   "metadata": {},
   "source": [
    "### It is essential to look at other factors for hospital admissions, like flu season, festival season(in India, the pollution rises greatly around this time), weather etc. Maybe there is a bias in how the hospital admissions data was collected and recorded. There might be other overlapping factors influencing the number. "
   ]
  },
  {
   "cell_type": "code",
   "execution_count": 52,
   "id": "66334723-2a24-428e-930e-f1f961d24636",
   "metadata": {},
   "outputs": [],
   "source": [
    "## export the data\n",
    "df_aqi.to_csv(os.path.join(path, 'Data', 'Prepared data','air_quality_cleaned.csv'))"
   ]
  },
  {
   "cell_type": "code",
   "execution_count": null,
   "id": "883c9114-353f-4b9d-a122-b5927904e1ac",
   "metadata": {},
   "outputs": [],
   "source": []
  }
 ],
 "metadata": {
  "kernelspec": {
   "display_name": "Python [conda env:base] *",
   "language": "python",
   "name": "conda-base-py"
  },
  "language_info": {
   "codemirror_mode": {
    "name": "ipython",
    "version": 3
   },
   "file_extension": ".py",
   "mimetype": "text/x-python",
   "name": "python",
   "nbconvert_exporter": "python",
   "pygments_lexer": "ipython3",
   "version": "3.12.7"
  }
 },
 "nbformat": 4,
 "nbformat_minor": 5
}
