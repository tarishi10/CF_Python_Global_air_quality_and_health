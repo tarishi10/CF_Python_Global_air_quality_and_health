{
 "cells": [
  {
   "cell_type": "code",
   "execution_count": 1,
   "id": "46ec57e1-0f3f-462e-8c72-07bae9ed3093",
   "metadata": {},
   "outputs": [],
   "source": [
    "## Importing libraries\n",
    "import pandas as pd\n",
    "import numpy as np\n",
    "import os\n"
   ]
  },
  {
   "cell_type": "code",
   "execution_count": 2,
   "id": "d85ffb9b-b394-4824-949b-39e641dbbec7",
   "metadata": {},
   "outputs": [],
   "source": [
    "## creating path\n",
    "path = r'C:\\Users\\akul_\\OneDrive\\Documents\\Tarishi\\CF Data analysis bootcamp\\Achievement 6\\Global aqi and respiratory health outcomes'"
   ]
  },
  {
   "cell_type": "code",
   "execution_count": 3,
   "id": "8b9d6a9f-ed11-4de8-ac5b-3399c0316dae",
   "metadata": {},
   "outputs": [],
   "source": [
    "df_aqi = pd.read_csv(os.path.join(path, 'Data', 'Original data', 'air_quality_health_dataset.csv'))"
   ]
  },
  {
   "cell_type": "code",
   "execution_count": 4,
   "id": "f8a9eaca-86ac-48e8-b70b-370db3809b4b",
   "metadata": {},
   "outputs": [
    {
     "data": {
      "text/plain": [
       "<bound method NDFrame.describe of               city        date  aqi  pm2_5  pm10   no2    o3  temperature  \\\n",
       "0      Los Angeles  2020-01-01   65   34.0  52.7   2.2  38.5         33.5   \n",
       "1          Beijing  2020-01-02  137   33.7  31.5  36.7  27.5         -1.6   \n",
       "2           London  2020-01-03  266   43.0  59.6  30.4  57.3         36.4   \n",
       "3      Mexico City  2020-01-04  293   33.7  37.9  12.3  42.7         -1.0   \n",
       "4            Delhi  2020-01-05  493   50.3  34.8  31.2  35.6         33.5   \n",
       "...            ...         ...  ...    ...   ...   ...   ...          ...   \n",
       "88484        Tokyo  2262-04-06   22   23.4  53.4  24.3  58.9          9.1   \n",
       "88485        Delhi  2262-04-07  170   48.0  32.4  25.0  15.7          5.6   \n",
       "88486        Delhi  2262-04-08  307   46.7  21.8  31.9  45.1          9.5   \n",
       "88487      Beijing  2262-04-09   65   31.9  26.0  38.1  53.0         17.8   \n",
       "88488  Mexico City  2262-04-10   59   41.8  50.1  31.2  52.0         25.0   \n",
       "\n",
       "       humidity  hospital_admissions population_density  hospital_capacity  \n",
       "0            33                    5              Rural               1337  \n",
       "1            32                    4              Urban               1545  \n",
       "2            25                   10           Suburban               1539  \n",
       "3            67                   10              Urban                552  \n",
       "4            72                    9           Suburban               1631  \n",
       "...         ...                  ...                ...                ...  \n",
       "88484        55                    5           Suburban                419  \n",
       "88485        40                   10              Urban                695  \n",
       "88486        44                   12              Urban                245  \n",
       "88487        46                   11           Suburban               1291  \n",
       "88488        65                    8              Urban                983  \n",
       "\n",
       "[88489 rows x 12 columns]>"
      ]
     },
     "execution_count": 4,
     "metadata": {},
     "output_type": "execute_result"
    }
   ],
   "source": [
    "df_aqi.describe"
   ]
  },
  {
   "cell_type": "markdown",
   "id": "3046c2c3-7fe2-4492-a40c-fb9e21fb1ea4",
   "metadata": {},
   "source": [
    "# Data cleaning\n"
   ]
  },
  {
   "cell_type": "code",
   "execution_count": 5,
   "id": "c3cd65be-8688-4bda-9d0c-8ac00945de87",
   "metadata": {},
   "outputs": [
    {
     "name": "stdout",
     "output_type": "stream",
     "text": [
      "city                   0\n",
      "date                   0\n",
      "aqi                    0\n",
      "pm2_5                  0\n",
      "pm10                   0\n",
      "no2                    0\n",
      "o3                     0\n",
      "temperature            0\n",
      "humidity               0\n",
      "hospital_admissions    0\n",
      "population_density     0\n",
      "hospital_capacity      0\n",
      "dtype: int64\n"
     ]
    }
   ],
   "source": [
    "## check for missing values\n",
    "print(df_aqi.isnull().sum())"
   ]
  },
  {
   "cell_type": "code",
   "execution_count": 6,
   "id": "76d08746-c705-4056-8a3e-5104120eddbb",
   "metadata": {},
   "outputs": [],
   "source": [
    "# check for duplicates\n",
    "duplicates = df_aqi.duplicated()\n"
   ]
  },
  {
   "cell_type": "code",
   "execution_count": 7,
   "id": "005420d2-5af5-46e5-90cc-516381ffbeca",
   "metadata": {},
   "outputs": [
    {
     "name": "stdout",
     "output_type": "stream",
     "text": [
      "Empty DataFrame\n",
      "Columns: [city, date, aqi, pm2_5, pm10, no2, o3, temperature, humidity, hospital_admissions, population_density, hospital_capacity]\n",
      "Index: []\n"
     ]
    }
   ],
   "source": [
    "print(df_aqi[duplicates])"
   ]
  },
  {
   "cell_type": "code",
   "execution_count": 8,
   "id": "a92252c6-f2b7-44e4-8c8a-47e8b3a1e4f6",
   "metadata": {},
   "outputs": [
    {
     "data": {
      "text/html": [
       "<div>\n",
       "<style scoped>\n",
       "    .dataframe tbody tr th:only-of-type {\n",
       "        vertical-align: middle;\n",
       "    }\n",
       "\n",
       "    .dataframe tbody tr th {\n",
       "        vertical-align: top;\n",
       "    }\n",
       "\n",
       "    .dataframe thead th {\n",
       "        text-align: right;\n",
       "    }\n",
       "</style>\n",
       "<table border=\"1\" class=\"dataframe\">\n",
       "  <thead>\n",
       "    <tr style=\"text-align: right;\">\n",
       "      <th></th>\n",
       "      <th>aqi</th>\n",
       "      <th>pm2_5</th>\n",
       "      <th>pm10</th>\n",
       "      <th>no2</th>\n",
       "      <th>o3</th>\n",
       "      <th>temperature</th>\n",
       "      <th>humidity</th>\n",
       "      <th>hospital_admissions</th>\n",
       "      <th>hospital_capacity</th>\n",
       "    </tr>\n",
       "  </thead>\n",
       "  <tbody>\n",
       "    <tr>\n",
       "      <th>count</th>\n",
       "      <td>88489.000000</td>\n",
       "      <td>88489.000000</td>\n",
       "      <td>88489.000000</td>\n",
       "      <td>88489.000000</td>\n",
       "      <td>88489.000000</td>\n",
       "      <td>88489.000000</td>\n",
       "      <td>88489.000000</td>\n",
       "      <td>88489.000000</td>\n",
       "      <td>88489.000000</td>\n",
       "    </tr>\n",
       "    <tr>\n",
       "      <th>mean</th>\n",
       "      <td>249.370182</td>\n",
       "      <td>35.144951</td>\n",
       "      <td>50.118654</td>\n",
       "      <td>30.006211</td>\n",
       "      <td>39.978895</td>\n",
       "      <td>17.522962</td>\n",
       "      <td>56.950966</td>\n",
       "      <td>8.049385</td>\n",
       "      <td>1024.463165</td>\n",
       "    </tr>\n",
       "    <tr>\n",
       "      <th>std</th>\n",
       "      <td>144.479132</td>\n",
       "      <td>14.767994</td>\n",
       "      <td>19.796392</td>\n",
       "      <td>9.963139</td>\n",
       "      <td>12.007258</td>\n",
       "      <td>12.961024</td>\n",
       "      <td>21.629675</td>\n",
       "      <td>3.715458</td>\n",
       "      <td>561.978071</td>\n",
       "    </tr>\n",
       "    <tr>\n",
       "      <th>min</th>\n",
       "      <td>0.000000</td>\n",
       "      <td>0.000000</td>\n",
       "      <td>0.000000</td>\n",
       "      <td>0.000000</td>\n",
       "      <td>0.000000</td>\n",
       "      <td>-5.000000</td>\n",
       "      <td>20.000000</td>\n",
       "      <td>0.000000</td>\n",
       "      <td>50.000000</td>\n",
       "    </tr>\n",
       "    <tr>\n",
       "      <th>25%</th>\n",
       "      <td>124.000000</td>\n",
       "      <td>24.900000</td>\n",
       "      <td>36.600000</td>\n",
       "      <td>23.300000</td>\n",
       "      <td>31.900000</td>\n",
       "      <td>6.400000</td>\n",
       "      <td>38.000000</td>\n",
       "      <td>6.000000</td>\n",
       "      <td>539.000000</td>\n",
       "    </tr>\n",
       "    <tr>\n",
       "      <th>50%</th>\n",
       "      <td>249.000000</td>\n",
       "      <td>35.100000</td>\n",
       "      <td>50.000000</td>\n",
       "      <td>30.000000</td>\n",
       "      <td>40.000000</td>\n",
       "      <td>17.500000</td>\n",
       "      <td>57.000000</td>\n",
       "      <td>8.000000</td>\n",
       "      <td>1026.000000</td>\n",
       "    </tr>\n",
       "    <tr>\n",
       "      <th>75%</th>\n",
       "      <td>374.000000</td>\n",
       "      <td>45.200000</td>\n",
       "      <td>63.500000</td>\n",
       "      <td>36.700000</td>\n",
       "      <td>48.100000</td>\n",
       "      <td>28.700000</td>\n",
       "      <td>76.000000</td>\n",
       "      <td>10.000000</td>\n",
       "      <td>1511.000000</td>\n",
       "    </tr>\n",
       "    <tr>\n",
       "      <th>max</th>\n",
       "      <td>499.000000</td>\n",
       "      <td>109.900000</td>\n",
       "      <td>143.500000</td>\n",
       "      <td>71.400000</td>\n",
       "      <td>93.500000</td>\n",
       "      <td>40.000000</td>\n",
       "      <td>94.000000</td>\n",
       "      <td>25.000000</td>\n",
       "      <td>1999.000000</td>\n",
       "    </tr>\n",
       "  </tbody>\n",
       "</table>\n",
       "</div>"
      ],
      "text/plain": [
       "                aqi         pm2_5          pm10           no2            o3  \\\n",
       "count  88489.000000  88489.000000  88489.000000  88489.000000  88489.000000   \n",
       "mean     249.370182     35.144951     50.118654     30.006211     39.978895   \n",
       "std      144.479132     14.767994     19.796392      9.963139     12.007258   \n",
       "min        0.000000      0.000000      0.000000      0.000000      0.000000   \n",
       "25%      124.000000     24.900000     36.600000     23.300000     31.900000   \n",
       "50%      249.000000     35.100000     50.000000     30.000000     40.000000   \n",
       "75%      374.000000     45.200000     63.500000     36.700000     48.100000   \n",
       "max      499.000000    109.900000    143.500000     71.400000     93.500000   \n",
       "\n",
       "        temperature      humidity  hospital_admissions  hospital_capacity  \n",
       "count  88489.000000  88489.000000         88489.000000       88489.000000  \n",
       "mean      17.522962     56.950966             8.049385        1024.463165  \n",
       "std       12.961024     21.629675             3.715458         561.978071  \n",
       "min       -5.000000     20.000000             0.000000          50.000000  \n",
       "25%        6.400000     38.000000             6.000000         539.000000  \n",
       "50%       17.500000     57.000000             8.000000        1026.000000  \n",
       "75%       28.700000     76.000000            10.000000        1511.000000  \n",
       "max       40.000000     94.000000            25.000000        1999.000000  "
      ]
     },
     "execution_count": 8,
     "metadata": {},
     "output_type": "execute_result"
    }
   ],
   "source": [
    "## descriptive statistics\n",
    "df_aqi.describe()"
   ]
  },
  {
   "cell_type": "code",
   "execution_count": 9,
   "id": "841f2bb9-c758-4e03-acc7-14be767f8664",
   "metadata": {},
   "outputs": [
    {
     "data": {
      "text/plain": [
       "city                    object\n",
       "date                    object\n",
       "aqi                      int64\n",
       "pm2_5                  float64\n",
       "pm10                   float64\n",
       "no2                    float64\n",
       "o3                     float64\n",
       "temperature            float64\n",
       "humidity                 int64\n",
       "hospital_admissions      int64\n",
       "population_density      object\n",
       "hospital_capacity        int64\n",
       "dtype: object"
      ]
     },
     "execution_count": 9,
     "metadata": {},
     "output_type": "execute_result"
    }
   ],
   "source": [
    "## check for data types\n",
    "df_aqi.dtypes"
   ]
  },
  {
   "cell_type": "code",
   "execution_count": 10,
   "id": "12f8c38e-6890-48a4-81e8-87a6bd352831",
   "metadata": {},
   "outputs": [],
   "source": [
    "# convert date into date format\n",
    "df_aqi['date'] = pd.to_datetime(df_aqi['date'])"
   ]
  },
  {
   "cell_type": "code",
   "execution_count": 11,
   "id": "8eda91e7-8d2e-4523-824b-2d110b076f5d",
   "metadata": {},
   "outputs": [
    {
     "data": {
      "text/plain": [
       "city                           object\n",
       "date                   datetime64[ns]\n",
       "aqi                             int64\n",
       "pm2_5                         float64\n",
       "pm10                          float64\n",
       "no2                           float64\n",
       "o3                            float64\n",
       "temperature                   float64\n",
       "humidity                        int64\n",
       "hospital_admissions             int64\n",
       "population_density             object\n",
       "hospital_capacity               int64\n",
       "dtype: object"
      ]
     },
     "execution_count": 11,
     "metadata": {},
     "output_type": "execute_result"
    }
   ],
   "source": [
    "df_aqi.dtypes"
   ]
  },
  {
   "cell_type": "code",
   "execution_count": 15,
   "id": "1dd26bd5-2726-44d4-bd31-71feea6ba012",
   "metadata": {},
   "outputs": [],
   "source": [
    "df_aqi_cleaned= df_aqi[df_aqi['date'].dt.year <=2025]"
   ]
  },
  {
   "cell_type": "code",
   "execution_count": 16,
   "id": "90ac5371-6797-48c7-aa2e-5938911f9154",
   "metadata": {},
   "outputs": [
    {
     "data": {
      "text/html": [
       "<div>\n",
       "<style scoped>\n",
       "    .dataframe tbody tr th:only-of-type {\n",
       "        vertical-align: middle;\n",
       "    }\n",
       "\n",
       "    .dataframe tbody tr th {\n",
       "        vertical-align: top;\n",
       "    }\n",
       "\n",
       "    .dataframe thead th {\n",
       "        text-align: right;\n",
       "    }\n",
       "</style>\n",
       "<table border=\"1\" class=\"dataframe\">\n",
       "  <thead>\n",
       "    <tr style=\"text-align: right;\">\n",
       "      <th></th>\n",
       "      <th>city</th>\n",
       "      <th>date</th>\n",
       "      <th>aqi</th>\n",
       "      <th>pm2_5</th>\n",
       "      <th>pm10</th>\n",
       "      <th>no2</th>\n",
       "      <th>o3</th>\n",
       "      <th>temperature</th>\n",
       "      <th>humidity</th>\n",
       "      <th>hospital_admissions</th>\n",
       "      <th>population_density</th>\n",
       "      <th>hospital_capacity</th>\n",
       "    </tr>\n",
       "  </thead>\n",
       "  <tbody>\n",
       "    <tr>\n",
       "      <th>0</th>\n",
       "      <td>Los Angeles</td>\n",
       "      <td>2020-01-01</td>\n",
       "      <td>65</td>\n",
       "      <td>34.0</td>\n",
       "      <td>52.7</td>\n",
       "      <td>2.2</td>\n",
       "      <td>38.5</td>\n",
       "      <td>33.5</td>\n",
       "      <td>33</td>\n",
       "      <td>5</td>\n",
       "      <td>Rural</td>\n",
       "      <td>1337</td>\n",
       "    </tr>\n",
       "    <tr>\n",
       "      <th>1</th>\n",
       "      <td>Beijing</td>\n",
       "      <td>2020-01-02</td>\n",
       "      <td>137</td>\n",
       "      <td>33.7</td>\n",
       "      <td>31.5</td>\n",
       "      <td>36.7</td>\n",
       "      <td>27.5</td>\n",
       "      <td>-1.6</td>\n",
       "      <td>32</td>\n",
       "      <td>4</td>\n",
       "      <td>Urban</td>\n",
       "      <td>1545</td>\n",
       "    </tr>\n",
       "    <tr>\n",
       "      <th>2</th>\n",
       "      <td>London</td>\n",
       "      <td>2020-01-03</td>\n",
       "      <td>266</td>\n",
       "      <td>43.0</td>\n",
       "      <td>59.6</td>\n",
       "      <td>30.4</td>\n",
       "      <td>57.3</td>\n",
       "      <td>36.4</td>\n",
       "      <td>25</td>\n",
       "      <td>10</td>\n",
       "      <td>Suburban</td>\n",
       "      <td>1539</td>\n",
       "    </tr>\n",
       "    <tr>\n",
       "      <th>3</th>\n",
       "      <td>Mexico City</td>\n",
       "      <td>2020-01-04</td>\n",
       "      <td>293</td>\n",
       "      <td>33.7</td>\n",
       "      <td>37.9</td>\n",
       "      <td>12.3</td>\n",
       "      <td>42.7</td>\n",
       "      <td>-1.0</td>\n",
       "      <td>67</td>\n",
       "      <td>10</td>\n",
       "      <td>Urban</td>\n",
       "      <td>552</td>\n",
       "    </tr>\n",
       "    <tr>\n",
       "      <th>4</th>\n",
       "      <td>Delhi</td>\n",
       "      <td>2020-01-05</td>\n",
       "      <td>493</td>\n",
       "      <td>50.3</td>\n",
       "      <td>34.8</td>\n",
       "      <td>31.2</td>\n",
       "      <td>35.6</td>\n",
       "      <td>33.5</td>\n",
       "      <td>72</td>\n",
       "      <td>9</td>\n",
       "      <td>Suburban</td>\n",
       "      <td>1631</td>\n",
       "    </tr>\n",
       "  </tbody>\n",
       "</table>\n",
       "</div>"
      ],
      "text/plain": [
       "          city       date  aqi  pm2_5  pm10   no2    o3  temperature  \\\n",
       "0  Los Angeles 2020-01-01   65   34.0  52.7   2.2  38.5         33.5   \n",
       "1      Beijing 2020-01-02  137   33.7  31.5  36.7  27.5         -1.6   \n",
       "2       London 2020-01-03  266   43.0  59.6  30.4  57.3         36.4   \n",
       "3  Mexico City 2020-01-04  293   33.7  37.9  12.3  42.7         -1.0   \n",
       "4        Delhi 2020-01-05  493   50.3  34.8  31.2  35.6         33.5   \n",
       "\n",
       "   humidity  hospital_admissions population_density  hospital_capacity  \n",
       "0        33                    5              Rural               1337  \n",
       "1        32                    4              Urban               1545  \n",
       "2        25                   10           Suburban               1539  \n",
       "3        67                   10              Urban                552  \n",
       "4        72                    9           Suburban               1631  "
      ]
     },
     "execution_count": 16,
     "metadata": {},
     "output_type": "execute_result"
    }
   ],
   "source": [
    "df_aqi_cleaned.head()"
   ]
  },
  {
   "cell_type": "code",
   "execution_count": 17,
   "id": "dba36a6e-f179-4f05-9d79-2357c77751b3",
   "metadata": {},
   "outputs": [
    {
     "name": "stdout",
     "output_type": "stream",
     "text": [
      "2020 2025\n"
     ]
    }
   ],
   "source": [
    "print(df_aqi_cleaned['date'].dt.year.min(), df_aqi_cleaned['date'].dt.year.max())"
   ]
  },
  {
   "cell_type": "code",
   "execution_count": 19,
   "id": "f2e85450-9b58-43b8-91aa-be0161b660cd",
   "metadata": {},
   "outputs": [
    {
     "data": {
      "text/plain": [
       "2192"
      ]
     },
     "execution_count": 19,
     "metadata": {},
     "output_type": "execute_result"
    }
   ],
   "source": [
    "len(df_aqi_cleaned)"
   ]
  },
  {
   "cell_type": "code",
   "execution_count": 18,
   "id": "1b0d6c09-64bb-472b-8564-9dc31f93ad9f",
   "metadata": {},
   "outputs": [],
   "source": [
    "## exporting the df\n",
    "df_aqi_cleaned.to_csv(os.path.join(path, 'Data', 'Prepared data', 'air_quality_cleaned.csv'),index=False)"
   ]
  },
  {
   "cell_type": "code",
   "execution_count": null,
   "id": "5f4d636b-fe0a-454d-b42e-42219936e4bd",
   "metadata": {},
   "outputs": [],
   "source": []
  }
 ],
 "metadata": {
  "kernelspec": {
   "display_name": "Python [conda env:base] *",
   "language": "python",
   "name": "conda-base-py"
  },
  "language_info": {
   "codemirror_mode": {
    "name": "ipython",
    "version": 3
   },
   "file_extension": ".py",
   "mimetype": "text/x-python",
   "name": "python",
   "nbconvert_exporter": "python",
   "pygments_lexer": "ipython3",
   "version": "3.12.7"
  }
 },
 "nbformat": 4,
 "nbformat_minor": 5
}
